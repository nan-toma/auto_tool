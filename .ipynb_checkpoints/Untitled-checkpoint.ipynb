{
 "cells": [
  {
   "cell_type": "code",
   "execution_count": 1,
   "metadata": {},
   "outputs": [],
   "source": [
    "import csv\n",
    "import copy\n",
    "import pandas as pd\n",
    "import codecs"
   ]
  },
  {
   "cell_type": "code",
   "execution_count": 3,
   "metadata": {
    "collapsed": true
   },
   "outputs": [
    {
     "ename": "UnicodeDecodeError",
     "evalue": "'utf-8' codec can't decode byte 0x83 in position 0: invalid start byte",
     "output_type": "error",
     "traceback": [
      "\u001b[1;31m---------------------------------------------------------------------------\u001b[0m",
      "\u001b[1;31mUnicodeDecodeError\u001b[0m                        Traceback (most recent call last)",
      "\u001b[1;32m<ipython-input-3-733d7e102c93>\u001b[0m in \u001b[0;36m<module>\u001b[1;34m\u001b[0m\n\u001b[1;32m----> 1\u001b[1;33m \u001b[0mme2_csv\u001b[0m \u001b[1;33m=\u001b[0m \u001b[0mpd\u001b[0m\u001b[1;33m.\u001b[0m\u001b[0mread_csv\u001b[0m\u001b[1;33m(\u001b[0m\u001b[1;34m\"C:\\\\Users\\\\toman01\\\\Downloads\\\\me2_all.csv\"\u001b[0m\u001b[1;33m)\u001b[0m\u001b[1;33m\u001b[0m\u001b[1;33m\u001b[0m\u001b[0m\n\u001b[0m",
      "\u001b[1;32mc:\\pythondev\\miniconda3\\lib\\site-packages\\pandas\\io\\parsers.py\u001b[0m in \u001b[0;36mparser_f\u001b[1;34m(filepath_or_buffer, sep, delimiter, header, names, index_col, usecols, squeeze, prefix, mangle_dupe_cols, dtype, engine, converters, true_values, false_values, skipinitialspace, skiprows, skipfooter, nrows, na_values, keep_default_na, na_filter, verbose, skip_blank_lines, parse_dates, infer_datetime_format, keep_date_col, date_parser, dayfirst, cache_dates, iterator, chunksize, compression, thousands, decimal, lineterminator, quotechar, quoting, doublequote, escapechar, comment, encoding, dialect, error_bad_lines, warn_bad_lines, delim_whitespace, low_memory, memory_map, float_precision)\u001b[0m\n\u001b[0;32m    683\u001b[0m         )\n\u001b[0;32m    684\u001b[0m \u001b[1;33m\u001b[0m\u001b[0m\n\u001b[1;32m--> 685\u001b[1;33m         \u001b[1;32mreturn\u001b[0m \u001b[0m_read\u001b[0m\u001b[1;33m(\u001b[0m\u001b[0mfilepath_or_buffer\u001b[0m\u001b[1;33m,\u001b[0m \u001b[0mkwds\u001b[0m\u001b[1;33m)\u001b[0m\u001b[1;33m\u001b[0m\u001b[1;33m\u001b[0m\u001b[0m\n\u001b[0m\u001b[0;32m    686\u001b[0m \u001b[1;33m\u001b[0m\u001b[0m\n\u001b[0;32m    687\u001b[0m     \u001b[0mparser_f\u001b[0m\u001b[1;33m.\u001b[0m\u001b[0m__name__\u001b[0m \u001b[1;33m=\u001b[0m \u001b[0mname\u001b[0m\u001b[1;33m\u001b[0m\u001b[1;33m\u001b[0m\u001b[0m\n",
      "\u001b[1;32mc:\\pythondev\\miniconda3\\lib\\site-packages\\pandas\\io\\parsers.py\u001b[0m in \u001b[0;36m_read\u001b[1;34m(filepath_or_buffer, kwds)\u001b[0m\n\u001b[0;32m    455\u001b[0m \u001b[1;33m\u001b[0m\u001b[0m\n\u001b[0;32m    456\u001b[0m     \u001b[1;31m# Create the parser.\u001b[0m\u001b[1;33m\u001b[0m\u001b[1;33m\u001b[0m\u001b[1;33m\u001b[0m\u001b[0m\n\u001b[1;32m--> 457\u001b[1;33m     \u001b[0mparser\u001b[0m \u001b[1;33m=\u001b[0m \u001b[0mTextFileReader\u001b[0m\u001b[1;33m(\u001b[0m\u001b[0mfp_or_buf\u001b[0m\u001b[1;33m,\u001b[0m \u001b[1;33m**\u001b[0m\u001b[0mkwds\u001b[0m\u001b[1;33m)\u001b[0m\u001b[1;33m\u001b[0m\u001b[1;33m\u001b[0m\u001b[0m\n\u001b[0m\u001b[0;32m    458\u001b[0m \u001b[1;33m\u001b[0m\u001b[0m\n\u001b[0;32m    459\u001b[0m     \u001b[1;32mif\u001b[0m \u001b[0mchunksize\u001b[0m \u001b[1;32mor\u001b[0m \u001b[0miterator\u001b[0m\u001b[1;33m:\u001b[0m\u001b[1;33m\u001b[0m\u001b[1;33m\u001b[0m\u001b[0m\n",
      "\u001b[1;32mc:\\pythondev\\miniconda3\\lib\\site-packages\\pandas\\io\\parsers.py\u001b[0m in \u001b[0;36m__init__\u001b[1;34m(self, f, engine, **kwds)\u001b[0m\n\u001b[0;32m    893\u001b[0m             \u001b[0mself\u001b[0m\u001b[1;33m.\u001b[0m\u001b[0moptions\u001b[0m\u001b[1;33m[\u001b[0m\u001b[1;34m\"has_index_names\"\u001b[0m\u001b[1;33m]\u001b[0m \u001b[1;33m=\u001b[0m \u001b[0mkwds\u001b[0m\u001b[1;33m[\u001b[0m\u001b[1;34m\"has_index_names\"\u001b[0m\u001b[1;33m]\u001b[0m\u001b[1;33m\u001b[0m\u001b[1;33m\u001b[0m\u001b[0m\n\u001b[0;32m    894\u001b[0m \u001b[1;33m\u001b[0m\u001b[0m\n\u001b[1;32m--> 895\u001b[1;33m         \u001b[0mself\u001b[0m\u001b[1;33m.\u001b[0m\u001b[0m_make_engine\u001b[0m\u001b[1;33m(\u001b[0m\u001b[0mself\u001b[0m\u001b[1;33m.\u001b[0m\u001b[0mengine\u001b[0m\u001b[1;33m)\u001b[0m\u001b[1;33m\u001b[0m\u001b[1;33m\u001b[0m\u001b[0m\n\u001b[0m\u001b[0;32m    896\u001b[0m \u001b[1;33m\u001b[0m\u001b[0m\n\u001b[0;32m    897\u001b[0m     \u001b[1;32mdef\u001b[0m \u001b[0mclose\u001b[0m\u001b[1;33m(\u001b[0m\u001b[0mself\u001b[0m\u001b[1;33m)\u001b[0m\u001b[1;33m:\u001b[0m\u001b[1;33m\u001b[0m\u001b[1;33m\u001b[0m\u001b[0m\n",
      "\u001b[1;32mc:\\pythondev\\miniconda3\\lib\\site-packages\\pandas\\io\\parsers.py\u001b[0m in \u001b[0;36m_make_engine\u001b[1;34m(self, engine)\u001b[0m\n\u001b[0;32m   1133\u001b[0m     \u001b[1;32mdef\u001b[0m \u001b[0m_make_engine\u001b[0m\u001b[1;33m(\u001b[0m\u001b[0mself\u001b[0m\u001b[1;33m,\u001b[0m \u001b[0mengine\u001b[0m\u001b[1;33m=\u001b[0m\u001b[1;34m\"c\"\u001b[0m\u001b[1;33m)\u001b[0m\u001b[1;33m:\u001b[0m\u001b[1;33m\u001b[0m\u001b[1;33m\u001b[0m\u001b[0m\n\u001b[0;32m   1134\u001b[0m         \u001b[1;32mif\u001b[0m \u001b[0mengine\u001b[0m \u001b[1;33m==\u001b[0m \u001b[1;34m\"c\"\u001b[0m\u001b[1;33m:\u001b[0m\u001b[1;33m\u001b[0m\u001b[1;33m\u001b[0m\u001b[0m\n\u001b[1;32m-> 1135\u001b[1;33m             \u001b[0mself\u001b[0m\u001b[1;33m.\u001b[0m\u001b[0m_engine\u001b[0m \u001b[1;33m=\u001b[0m \u001b[0mCParserWrapper\u001b[0m\u001b[1;33m(\u001b[0m\u001b[0mself\u001b[0m\u001b[1;33m.\u001b[0m\u001b[0mf\u001b[0m\u001b[1;33m,\u001b[0m \u001b[1;33m**\u001b[0m\u001b[0mself\u001b[0m\u001b[1;33m.\u001b[0m\u001b[0moptions\u001b[0m\u001b[1;33m)\u001b[0m\u001b[1;33m\u001b[0m\u001b[1;33m\u001b[0m\u001b[0m\n\u001b[0m\u001b[0;32m   1136\u001b[0m         \u001b[1;32melse\u001b[0m\u001b[1;33m:\u001b[0m\u001b[1;33m\u001b[0m\u001b[1;33m\u001b[0m\u001b[0m\n\u001b[0;32m   1137\u001b[0m             \u001b[1;32mif\u001b[0m \u001b[0mengine\u001b[0m \u001b[1;33m==\u001b[0m \u001b[1;34m\"python\"\u001b[0m\u001b[1;33m:\u001b[0m\u001b[1;33m\u001b[0m\u001b[1;33m\u001b[0m\u001b[0m\n",
      "\u001b[1;32mc:\\pythondev\\miniconda3\\lib\\site-packages\\pandas\\io\\parsers.py\u001b[0m in \u001b[0;36m__init__\u001b[1;34m(self, src, **kwds)\u001b[0m\n\u001b[0;32m   1915\u001b[0m         \u001b[0mkwds\u001b[0m\u001b[1;33m[\u001b[0m\u001b[1;34m\"usecols\"\u001b[0m\u001b[1;33m]\u001b[0m \u001b[1;33m=\u001b[0m \u001b[0mself\u001b[0m\u001b[1;33m.\u001b[0m\u001b[0musecols\u001b[0m\u001b[1;33m\u001b[0m\u001b[1;33m\u001b[0m\u001b[0m\n\u001b[0;32m   1916\u001b[0m \u001b[1;33m\u001b[0m\u001b[0m\n\u001b[1;32m-> 1917\u001b[1;33m         \u001b[0mself\u001b[0m\u001b[1;33m.\u001b[0m\u001b[0m_reader\u001b[0m \u001b[1;33m=\u001b[0m \u001b[0mparsers\u001b[0m\u001b[1;33m.\u001b[0m\u001b[0mTextReader\u001b[0m\u001b[1;33m(\u001b[0m\u001b[0msrc\u001b[0m\u001b[1;33m,\u001b[0m \u001b[1;33m**\u001b[0m\u001b[0mkwds\u001b[0m\u001b[1;33m)\u001b[0m\u001b[1;33m\u001b[0m\u001b[1;33m\u001b[0m\u001b[0m\n\u001b[0m\u001b[0;32m   1918\u001b[0m         \u001b[0mself\u001b[0m\u001b[1;33m.\u001b[0m\u001b[0munnamed_cols\u001b[0m \u001b[1;33m=\u001b[0m \u001b[0mself\u001b[0m\u001b[1;33m.\u001b[0m\u001b[0m_reader\u001b[0m\u001b[1;33m.\u001b[0m\u001b[0munnamed_cols\u001b[0m\u001b[1;33m\u001b[0m\u001b[1;33m\u001b[0m\u001b[0m\n\u001b[0;32m   1919\u001b[0m \u001b[1;33m\u001b[0m\u001b[0m\n",
      "\u001b[1;32mpandas\\_libs\\parsers.pyx\u001b[0m in \u001b[0;36mpandas._libs.parsers.TextReader.__cinit__\u001b[1;34m()\u001b[0m\n",
      "\u001b[1;32mpandas\\_libs\\parsers.pyx\u001b[0m in \u001b[0;36mpandas._libs.parsers.TextReader._get_header\u001b[1;34m()\u001b[0m\n",
      "\u001b[1;31mUnicodeDecodeError\u001b[0m: 'utf-8' codec can't decode byte 0x83 in position 0: invalid start byte"
     ]
    }
   ],
   "source": [
    "me2_csv = pd.read_csv(\"C:\\\\Users\\\\toman01\\\\Downloads\\\\me2_all.csv\")"
   ]
  },
  {
   "cell_type": "code",
   "execution_count": 6,
   "metadata": {},
   "outputs": [],
   "source": [
    "pd.set_option('display.max_columns', 150)"
   ]
  },
  {
   "cell_type": "code",
   "execution_count": 2,
   "metadata": {},
   "outputs": [
    {
     "name": "stderr",
     "output_type": "stream",
     "text": [
      "c:\\pythondev\\miniconda3\\lib\\site-packages\\IPython\\core\\interactiveshell.py:3063: DtypeWarning: Columns (12,13,24,26,42,45,46,47,50,51,62,83,116,117,121,124,125,127,128,129,130,132,133,134,136,137,139,141,142,145,146) have mixed types. Specify dtype option on import or set low_memory=False.\n",
      "  interactivity=interactivity, compiler=compiler, result=result)\n"
     ]
    }
   ],
   "source": [
    "with codecs.open(\"C:\\\\Users\\\\toman01\\\\Downloads\\\\me2_all.csv\", \"r\", \"Shift-JIS\", \"ignore\") as file:\n",
    "    df = pd.read_table(file, delimiter=\",\")"
   ]
  },
  {
   "cell_type": "code",
   "execution_count": 4,
   "metadata": {},
   "outputs": [],
   "source": [
    "backup_D_number_list = list(df[\"D#（冗長）\"].dropna(how=\"all\"))"
   ]
  },
  {
   "cell_type": "code",
   "execution_count": 23,
   "metadata": {},
   "outputs": [
    {
     "data": {
      "text/plain": [
       "Series([], Name: D#（冗長）, dtype: object)"
      ]
     },
     "execution_count": 23,
     "metadata": {},
     "output_type": "execute_result"
    }
   ],
   "source": [
    "df[(df[\"カスタマID（冗長）\"].isnull()) & (df[\"D#（冗長）\"].str.contains('D'))][\"D#（冗長）\"]"
   ]
  },
  {
   "cell_type": "code",
   "execution_count": 17,
   "metadata": {},
   "outputs": [],
   "source": [
    "true_count = df[~df[\"契約番号D#\"].isin(backup_D_number_list)][\"契約番号D#\"].isin([\"D417650095\"])"
   ]
  },
  {
   "cell_type": "code",
   "execution_count": 18,
   "metadata": {},
   "outputs": [
    {
     "data": {
      "text/plain": [
       "0"
      ]
     },
     "execution_count": 18,
     "metadata": {},
     "output_type": "execute_result"
    }
   ],
   "source": [
    "true_count.sum()"
   ]
  },
  {
   "cell_type": "code",
   "execution_count": 26,
   "metadata": {},
   "outputs": [
    {
     "name": "stderr",
     "output_type": "stream",
     "text": [
      "c:\\pythondev\\miniconda3\\lib\\site-packages\\ipykernel_launcher.py:1: FutureWarning: The signature of `Series.to_csv` was aligned to that of `DataFrame.to_csv`, and argument 'header' will change its default value from False to True: please pass an explicit value to suppress this warning.\n",
      "  \"\"\"Entry point for launching an IPython kernel.\n"
     ]
    }
   ],
   "source": [
    "df[~df[\"契約番号D#\"].isin(backup_D_number_list)][\"契約番号D#\"].to_csv(\"me2_not_backup_list.csv\")"
   ]
  },
  {
   "cell_type": "code",
   "execution_count": 4,
   "metadata": {},
   "outputs": [],
   "source": [
    "f = open(\"C:\\\\Users\\\\toman01\\\\Downloads\\\\sa-an-ospf-down-up (2).csv\")"
   ]
  },
  {
   "cell_type": "code",
   "execution_count": 63,
   "metadata": {},
   "outputs": [],
   "source": [
    "reader = csv.reader(f)"
   ]
  },
  {
   "cell_type": "code",
   "execution_count": 64,
   "metadata": {},
   "outputs": [],
   "source": [
    "csv_list = [row for row in reader]"
   ]
  },
  {
   "cell_type": "code",
   "execution_count": 65,
   "metadata": {},
   "outputs": [
    {
     "data": {
      "text/plain": [
       "[['時刻',\n",
       "  'ステータス',\n",
       "  'H番',\n",
       "  'AN/AR局舎名',\n",
       "  'AN/ARホスト名',\n",
       "  'AN/AR物理ポート',\n",
       "  'AN/AR対向PT情報',\n",
       "  'AN/AR論理ポート',\n",
       "  'SA/ZR局舎名',\n",
       "  'SA/ZRホスト名',\n",
       "  'SA/ZRサブインタフェース',\n",
       "  'SA/ZR対向PT情報'],\n",
       " ['2020/09/08 07:45:15.505',\n",
       "  'down',\n",
       "  'H000083532',\n",
       "  'NTT国府津',\n",
       "  'KN184-077AN-01',\n",
       "  '4/3',\n",
       "  'KN180-077PT-01[2/10]',\n",
       "  'br60',\n",
       "  '東京イースト',\n",
       "  'TK004-246ZR-02',\n",
       "  'HundredGigE0/18/0/3.801',\n",
       "  'KN180-011PTB-08[13/1] ICHIGO-962'],\n",
       " ['2020/09/08 07:45:15.532',\n",
       "  'down',\n",
       "  'H000083532',\n",
       "  'NTT国府津',\n",
       "  'KN184-077AN-01',\n",
       "  '4/3',\n",
       "  'KN180-077PT-01[2/10]',\n",
       "  'br60',\n",
       "  'SBM＿大宮センター',\n",
       "  'ST004-169ZR-02',\n",
       "  'HundredGigE0/18/0/3.801',\n",
       "  'KN180-043PTB-10[13/1] ICHIGO-858'],\n",
       " ['2020/09/08 07:45:30.369',\n",
       "  'up',\n",
       "  'H000083532',\n",
       "  'NTT国府津',\n",
       "  'KN184-077AN-01',\n",
       "  '4/3',\n",
       "  'KN180-077PT-01[2/10]',\n",
       "  'br60',\n",
       "  '東京イースト',\n",
       "  'TK004-246ZR-02',\n",
       "  'HundredGigE0/18/0/3.801',\n",
       "  'KN180-011PTB-08[13/1] ICHIGO-962'],\n",
       " ['2020/09/08 07:45:30.371',\n",
       "  'up',\n",
       "  'H000083532',\n",
       "  'NTT国府津',\n",
       "  'KN184-077AN-01',\n",
       "  '4/3',\n",
       "  'KN180-077PT-01[2/10]',\n",
       "  'br60',\n",
       "  'SBM＿大宮センター',\n",
       "  'ST004-169ZR-02',\n",
       "  'HundredGigE0/18/0/3.801',\n",
       "  'KN180-043PTB-10[13/1] ICHIGO-858'],\n",
       " ['2020/09/08 07:49:32.552',\n",
       "  'down',\n",
       "  'H000083532',\n",
       "  'NTT国府津',\n",
       "  'KN184-077AN-01',\n",
       "  '4/3',\n",
       "  'KN180-077PT-01[2/10]',\n",
       "  'br60',\n",
       "  '東京イースト',\n",
       "  'TK004-246ZR-02',\n",
       "  'HundredGigE0/18/0/3.801',\n",
       "  'KN180-011PTB-08[13/1] ICHIGO-962'],\n",
       " ['2020/09/08 07:49:32.576',\n",
       "  'down',\n",
       "  'H000083532',\n",
       "  'NTT国府津',\n",
       "  'KN184-077AN-01',\n",
       "  '4/3',\n",
       "  'KN180-077PT-01[2/10]',\n",
       "  'br60',\n",
       "  'SBM＿大宮センター',\n",
       "  'ST004-169ZR-02',\n",
       "  'HundredGigE0/18/0/3.801',\n",
       "  'KN180-043PTB-10[13/1] ICHIGO-858'],\n",
       " ['2020/09/08 07:49:47.756',\n",
       "  'up',\n",
       "  'H000083532',\n",
       "  'NTT国府津',\n",
       "  'KN184-077AN-01',\n",
       "  '4/3',\n",
       "  'KN180-077PT-01[2/10]',\n",
       "  'br60',\n",
       "  'SBM＿大宮センター',\n",
       "  'ST004-169ZR-02',\n",
       "  'HundredGigE0/18/0/3.801',\n",
       "  'KN180-043PTB-10[13/1] ICHIGO-858'],\n",
       " ['2020/09/08 07:49:47.759',\n",
       "  'up',\n",
       "  'H000083532',\n",
       "  'NTT国府津',\n",
       "  'KN184-077AN-01',\n",
       "  '4/3',\n",
       "  'KN180-077PT-01[2/10]',\n",
       "  'br60',\n",
       "  '東京イースト',\n",
       "  'TK004-246ZR-02',\n",
       "  'HundredGigE0/18/0/3.801',\n",
       "  'KN180-011PTB-08[13/1] ICHIGO-962'],\n",
       " ['2020/09/08 07:58:13.744',\n",
       "  'down',\n",
       "  'H000083532',\n",
       "  'NTT国府津',\n",
       "  'KN184-077AN-01',\n",
       "  '4/3',\n",
       "  'KN180-077PT-01[2/10]',\n",
       "  'br60',\n",
       "  '東京イースト',\n",
       "  'TK004-246ZR-02',\n",
       "  'HundredGigE0/18/0/3.801',\n",
       "  'KN180-011PTB-08[13/1] ICHIGO-962'],\n",
       " ['2020/09/08 07:58:13.811',\n",
       "  'down',\n",
       "  'H000083532',\n",
       "  'NTT国府津',\n",
       "  'KN184-077AN-01',\n",
       "  '4/3',\n",
       "  'KN180-077PT-01[2/10]',\n",
       "  'br60',\n",
       "  'SBM＿大宮センター',\n",
       "  'ST004-169ZR-02',\n",
       "  'HundredGigE0/18/0/3.801',\n",
       "  'KN180-043PTB-10[13/1] ICHIGO-858'],\n",
       " ['2020/09/08 07:58:30.631',\n",
       "  'up',\n",
       "  'H000083532',\n",
       "  'NTT国府津',\n",
       "  'KN184-077AN-01',\n",
       "  '4/3',\n",
       "  'KN180-077PT-01[2/10]',\n",
       "  'br60',\n",
       "  '東京イースト',\n",
       "  'TK004-246ZR-02',\n",
       "  'HundredGigE0/18/0/3.801',\n",
       "  'KN180-011PTB-08[13/1] ICHIGO-962'],\n",
       " ['2020/09/08 07:58:30.632',\n",
       "  'up',\n",
       "  'H000083532',\n",
       "  'NTT国府津',\n",
       "  'KN184-077AN-01',\n",
       "  '4/3',\n",
       "  'KN180-077PT-01[2/10]',\n",
       "  'br60',\n",
       "  'SBM＿大宮センター',\n",
       "  'ST004-169ZR-02',\n",
       "  'HundredGigE0/18/0/3.801',\n",
       "  'KN180-043PTB-10[13/1] ICHIGO-858'],\n",
       " ['2020/09/08 08:11:45.531',\n",
       "  'down',\n",
       "  'H000083532',\n",
       "  'NTT国府津',\n",
       "  'KN184-077AN-01',\n",
       "  '4/3',\n",
       "  'KN180-077PT-01[2/10]',\n",
       "  'br60',\n",
       "  '東京イースト',\n",
       "  'TK004-246ZR-02',\n",
       "  'HundredGigE0/18/0/3.801',\n",
       "  'KN180-011PTB-08[13/1] ICHIGO-962'],\n",
       " ['2020/09/08 08:11:45.587',\n",
       "  'down',\n",
       "  'H000083532',\n",
       "  'NTT国府津',\n",
       "  'KN184-077AN-01',\n",
       "  '4/3',\n",
       "  'KN180-077PT-01[2/10]',\n",
       "  'br60',\n",
       "  'SBM＿大宮センター',\n",
       "  'ST004-169ZR-02',\n",
       "  'HundredGigE0/18/0/3.801',\n",
       "  'KN180-043PTB-10[13/1] ICHIGO-858'],\n",
       " ['2020/09/08 08:12:02.028',\n",
       "  'up',\n",
       "  'H000083532',\n",
       "  'NTT国府津',\n",
       "  'KN184-077AN-01',\n",
       "  '4/3',\n",
       "  'KN180-077PT-01[2/10]',\n",
       "  'br60',\n",
       "  '東京イースト',\n",
       "  'TK004-246ZR-02',\n",
       "  'HundredGigE0/18/0/3.801',\n",
       "  'KN180-011PTB-08[13/1] ICHIGO-962'],\n",
       " ['2020/09/08 08:12:02.070',\n",
       "  'up',\n",
       "  'H000083532',\n",
       "  'NTT国府津',\n",
       "  'KN184-077AN-01',\n",
       "  '4/3',\n",
       "  'KN180-077PT-01[2/10]',\n",
       "  'br60',\n",
       "  'SBM＿大宮センター',\n",
       "  'ST004-169ZR-02',\n",
       "  'HundredGigE0/18/0/3.801',\n",
       "  'KN180-043PTB-10[13/1] ICHIGO-858'],\n",
       " ['2020/09/08 08:52:35.717',\n",
       "  'down',\n",
       "  'H000083532',\n",
       "  'NTT国府津',\n",
       "  'KN184-077AN-01',\n",
       "  '4/3',\n",
       "  'KN180-077PT-01[2/10]',\n",
       "  'br60',\n",
       "  '東京イースト',\n",
       "  'TK004-246ZR-02',\n",
       "  'HundredGigE0/18/0/3.801',\n",
       "  'KN180-011PTB-08[13/1] ICHIGO-962'],\n",
       " ['2020/09/08 08:52:35.719',\n",
       "  'down',\n",
       "  'H000083532',\n",
       "  'NTT国府津',\n",
       "  'KN184-077AN-01',\n",
       "  '4/3',\n",
       "  'KN180-077PT-01[2/10]',\n",
       "  'br60',\n",
       "  'SBM＿大宮センター',\n",
       "  'ST004-169ZR-02',\n",
       "  'HundredGigE0/18/0/3.801',\n",
       "  'KN180-043PTB-10[13/1] ICHIGO-858'],\n",
       " ['2020/09/08 08:52:50.112',\n",
       "  'up',\n",
       "  'H000083532',\n",
       "  'NTT国府津',\n",
       "  'KN184-077AN-01',\n",
       "  '4/3',\n",
       "  'KN180-077PT-01[2/10]',\n",
       "  'br60',\n",
       "  '東京イースト',\n",
       "  'TK004-246ZR-02',\n",
       "  'HundredGigE0/18/0/3.801',\n",
       "  'KN180-011PTB-08[13/1] ICHIGO-962'],\n",
       " ['2020/09/08 08:52:50.113',\n",
       "  'up',\n",
       "  'H000083532',\n",
       "  'NTT国府津',\n",
       "  'KN184-077AN-01',\n",
       "  '4/3',\n",
       "  'KN180-077PT-01[2/10]',\n",
       "  'br60',\n",
       "  'SBM＿大宮センター',\n",
       "  'ST004-169ZR-02',\n",
       "  'HundredGigE0/18/0/3.801',\n",
       "  'KN180-043PTB-10[13/1] ICHIGO-858'],\n",
       " ['2020/09/08 08:54:09.760',\n",
       "  'down',\n",
       "  'H000083532',\n",
       "  'NTT国府津',\n",
       "  'KN184-077AN-01',\n",
       "  '4/3',\n",
       "  'KN180-077PT-01[2/10]',\n",
       "  'br60',\n",
       "  '東京イースト',\n",
       "  'TK004-246ZR-02',\n",
       "  'HundredGigE0/18/0/3.801',\n",
       "  'KN180-011PTB-08[13/1] ICHIGO-962'],\n",
       " ['2020/09/08 08:54:09.789',\n",
       "  'down',\n",
       "  'H000083532',\n",
       "  'NTT国府津',\n",
       "  'KN184-077AN-01',\n",
       "  '4/3',\n",
       "  'KN180-077PT-01[2/10]',\n",
       "  'br60',\n",
       "  'SBM＿大宮センター',\n",
       "  'ST004-169ZR-02',\n",
       "  'HundredGigE0/18/0/3.801',\n",
       "  'KN180-043PTB-10[13/1] ICHIGO-858'],\n",
       " ['2020/09/08 08:54:23.606',\n",
       "  'up',\n",
       "  'H000083532',\n",
       "  'NTT国府津',\n",
       "  'KN184-077AN-01',\n",
       "  '4/3',\n",
       "  'KN180-077PT-01[2/10]',\n",
       "  'br60',\n",
       "  '東京イースト',\n",
       "  'TK004-246ZR-02',\n",
       "  'HundredGigE0/18/0/3.801',\n",
       "  'KN180-011PTB-08[13/1] ICHIGO-962'],\n",
       " ['2020/09/08 08:54:23.607',\n",
       "  'up',\n",
       "  'H000083532',\n",
       "  'NTT国府津',\n",
       "  'KN184-077AN-01',\n",
       "  '4/3',\n",
       "  'KN180-077PT-01[2/10]',\n",
       "  'br60',\n",
       "  'SBM＿大宮センター',\n",
       "  'ST004-169ZR-02',\n",
       "  'HundredGigE0/18/0/3.801',\n",
       "  'KN180-043PTB-10[13/1] ICHIGO-858'],\n",
       " ['2020/09/08 09:09:47.000',\n",
       "  'down',\n",
       "  'H000083532',\n",
       "  'NTT国府津',\n",
       "  'KN184-077AN-01',\n",
       "  '4/3',\n",
       "  'KN180-077PT-01[2/10]',\n",
       "  'br60',\n",
       "  '東京イースト',\n",
       "  'TK004-246ZR-02',\n",
       "  'HundredGigE0/18/0/3.801',\n",
       "  'KN180-011PTB-08[13/1] ICHIGO-962'],\n",
       " ['2020/09/08 09:09:47.014',\n",
       "  'down',\n",
       "  'H000083532',\n",
       "  'NTT国府津',\n",
       "  'KN184-077AN-01',\n",
       "  '4/3',\n",
       "  'KN180-077PT-01[2/10]',\n",
       "  'br60',\n",
       "  'SBM＿大宮センター',\n",
       "  'ST004-169ZR-02',\n",
       "  'HundredGigE0/18/0/3.801',\n",
       "  'KN180-043PTB-10[13/1] ICHIGO-858'],\n",
       " ['2020/09/08 09:10:00.883',\n",
       "  'up',\n",
       "  'H000083532',\n",
       "  'NTT国府津',\n",
       "  'KN184-077AN-01',\n",
       "  '4/3',\n",
       "  'KN180-077PT-01[2/10]',\n",
       "  'br60',\n",
       "  '東京イースト',\n",
       "  'TK004-246ZR-02',\n",
       "  'HundredGigE0/18/0/3.801',\n",
       "  'KN180-011PTB-08[13/1] ICHIGO-962'],\n",
       " ['2020/09/08 09:10:00.924',\n",
       "  'up',\n",
       "  'H000083532',\n",
       "  'NTT国府津',\n",
       "  'KN184-077AN-01',\n",
       "  '4/3',\n",
       "  'KN180-077PT-01[2/10]',\n",
       "  'br60',\n",
       "  'SBM＿大宮センター',\n",
       "  'ST004-169ZR-02',\n",
       "  'HundredGigE0/18/0/3.801',\n",
       "  'KN180-043PTB-10[13/1] ICHIGO-858'],\n",
       " ['2020/09/08 09:20:33.543',\n",
       "  'down',\n",
       "  'H000083532',\n",
       "  'NTT国府津',\n",
       "  'KN184-077AN-01',\n",
       "  '4/3',\n",
       "  'KN180-077PT-01[2/10]',\n",
       "  'br60',\n",
       "  'SBM＿大宮センター',\n",
       "  'ST004-169ZR-02',\n",
       "  'HundredGigE0/18/0/3.801',\n",
       "  'KN180-043PTB-10[13/1] ICHIGO-858'],\n",
       " ['2020/09/08 09:20:33.556',\n",
       "  'down',\n",
       "  'H000083532',\n",
       "  'NTT国府津',\n",
       "  'KN184-077AN-01',\n",
       "  '4/3',\n",
       "  'KN180-077PT-01[2/10]',\n",
       "  'br60',\n",
       "  '東京イースト',\n",
       "  'TK004-246ZR-02',\n",
       "  'HundredGigE0/18/0/3.801',\n",
       "  'KN180-011PTB-08[13/1] ICHIGO-962'],\n",
       " ['2020/09/08 09:20:48.140',\n",
       "  'up',\n",
       "  'H000083532',\n",
       "  'NTT国府津',\n",
       "  'KN184-077AN-01',\n",
       "  '4/3',\n",
       "  'KN180-077PT-01[2/10]',\n",
       "  'br60',\n",
       "  '東京イースト',\n",
       "  'TK004-246ZR-02',\n",
       "  'HundredGigE0/18/0/3.801',\n",
       "  'KN180-011PTB-08[13/1] ICHIGO-962'],\n",
       " ['2020/09/08 09:20:48.141',\n",
       "  'up',\n",
       "  'H000083532',\n",
       "  'NTT国府津',\n",
       "  'KN184-077AN-01',\n",
       "  '4/3',\n",
       "  'KN180-077PT-01[2/10]',\n",
       "  'br60',\n",
       "  'SBM＿大宮センター',\n",
       "  'ST004-169ZR-02',\n",
       "  'HundredGigE0/18/0/3.801',\n",
       "  'KN180-043PTB-10[13/1] ICHIGO-858'],\n",
       " ['2020/09/08 09:30:55.307',\n",
       "  'down',\n",
       "  'H000083532',\n",
       "  'NTT国府津',\n",
       "  'KN184-077AN-01',\n",
       "  '4/3',\n",
       "  'KN180-077PT-01[2/10]',\n",
       "  'br60',\n",
       "  'SBM＿大宮センター',\n",
       "  'ST004-169ZR-02',\n",
       "  'HundredGigE0/18/0/3.801',\n",
       "  'KN180-043PTB-10[13/1] ICHIGO-858'],\n",
       " ['2020/09/08 09:30:55.313',\n",
       "  'down',\n",
       "  'H000083532',\n",
       "  'NTT国府津',\n",
       "  'KN184-077AN-01',\n",
       "  '4/3',\n",
       "  'KN180-077PT-01[2/10]',\n",
       "  'br60',\n",
       "  '東京イースト',\n",
       "  'TK004-246ZR-02',\n",
       "  'HundredGigE0/18/0/3.801',\n",
       "  'KN180-011PTB-08[13/1] ICHIGO-962'],\n",
       " ['2020/09/08 09:31:10.652',\n",
       "  'up',\n",
       "  'H000083532',\n",
       "  'NTT国府津',\n",
       "  'KN184-077AN-01',\n",
       "  '4/3',\n",
       "  'KN180-077PT-01[2/10]',\n",
       "  'br60',\n",
       "  '東京イースト',\n",
       "  'TK004-246ZR-02',\n",
       "  'HundredGigE0/18/0/3.801',\n",
       "  'KN180-011PTB-08[13/1] ICHIGO-962'],\n",
       " ['2020/09/08 09:31:10.677',\n",
       "  'up',\n",
       "  'H000083532',\n",
       "  'NTT国府津',\n",
       "  'KN184-077AN-01',\n",
       "  '4/3',\n",
       "  'KN180-077PT-01[2/10]',\n",
       "  'br60',\n",
       "  'SBM＿大宮センター',\n",
       "  'ST004-169ZR-02',\n",
       "  'HundredGigE0/18/0/3.801',\n",
       "  'KN180-043PTB-10[13/1] ICHIGO-858'],\n",
       " ['2020/09/08 09:35:57.054',\n",
       "  'down',\n",
       "  'H000058692',\n",
       "  'NTT鳥取賀露',\n",
       "  'TT410-002AN-02',\n",
       "  '4/3',\n",
       "  'TT410-002PT-02[2/9]',\n",
       "  'br20',\n",
       "  '新広島',\n",
       "  'HR007-252ZR-02',\n",
       "  'HundredGigE0/7/0/0.206',\n",
       "  'TT410-009PTB-01[13/1] ICHIGO-1366'],\n",
       " ['2020/09/08 09:35:57.070',\n",
       "  'down',\n",
       "  'H000058692',\n",
       "  'NTT鳥取賀露',\n",
       "  'TT410-002AN-02',\n",
       "  '4/3',\n",
       "  'TT410-002PT-02[2/9]',\n",
       "  'br20',\n",
       "  'SBM宇多津第二センター',\n",
       "  'KG007-110ZR-02',\n",
       "  'HundredGigE0/7/0/0.206',\n",
       "  'TT410-016PTB-01[13/1] ICHIGO-1368'],\n",
       " ['2020/09/08 09:36:20.278',\n",
       "  'up',\n",
       "  'H000058692',\n",
       "  'NTT鳥取賀露',\n",
       "  'TT410-002AN-02',\n",
       "  '4/3',\n",
       "  'TT410-002PT-02[2/9]',\n",
       "  'br20',\n",
       "  'SBM宇多津第二センター',\n",
       "  'KG007-110ZR-02',\n",
       "  'HundredGigE0/7/0/0.206',\n",
       "  'TT410-016PTB-01[13/1] ICHIGO-1368'],\n",
       " ['2020/09/08 09:36:20.313',\n",
       "  'up',\n",
       "  'H000058692',\n",
       "  'NTT鳥取賀露',\n",
       "  'TT410-002AN-02',\n",
       "  '4/3',\n",
       "  'TT410-002PT-02[2/9]',\n",
       "  'br20',\n",
       "  '新広島',\n",
       "  'HR007-252ZR-02',\n",
       "  'HundredGigE0/7/0/0.206',\n",
       "  'TT410-009PTB-01[13/1] ICHIGO-1366'],\n",
       " ['2020/09/08 09:40:00.438',\n",
       "  'down',\n",
       "  'H000083532',\n",
       "  'NTT国府津',\n",
       "  'KN184-077AN-01',\n",
       "  '4/3',\n",
       "  'KN180-077PT-01[2/10]',\n",
       "  'br60',\n",
       "  'SBM＿大宮センター',\n",
       "  'ST004-169ZR-02',\n",
       "  'HundredGigE0/18/0/3.801',\n",
       "  'KN180-043PTB-10[13/1] ICHIGO-858'],\n",
       " ['2020/09/08 09:40:00.498',\n",
       "  'down',\n",
       "  'H000083532',\n",
       "  'NTT国府津',\n",
       "  'KN184-077AN-01',\n",
       "  '4/3',\n",
       "  'KN180-077PT-01[2/10]',\n",
       "  'br60',\n",
       "  '東京イースト',\n",
       "  'TK004-246ZR-02',\n",
       "  'HundredGigE0/18/0/3.801',\n",
       "  'KN180-011PTB-08[13/1] ICHIGO-962'],\n",
       " ['2020/09/08 09:40:14.815',\n",
       "  'up',\n",
       "  'H000083532',\n",
       "  'NTT国府津',\n",
       "  'KN184-077AN-01',\n",
       "  '4/3',\n",
       "  'KN180-077PT-01[2/10]',\n",
       "  'br60',\n",
       "  '東京イースト',\n",
       "  'TK004-246ZR-02',\n",
       "  'HundredGigE0/18/0/3.801',\n",
       "  'KN180-011PTB-08[13/1] ICHIGO-962'],\n",
       " ['2020/09/08 09:40:14.817',\n",
       "  'up',\n",
       "  'H000083532',\n",
       "  'NTT国府津',\n",
       "  'KN184-077AN-01',\n",
       "  '4/3',\n",
       "  'KN180-077PT-01[2/10]',\n",
       "  'br60',\n",
       "  'SBM＿大宮センター',\n",
       "  'ST004-169ZR-02',\n",
       "  'HundredGigE0/18/0/3.801',\n",
       "  'KN180-043PTB-10[13/1] ICHIGO-858'],\n",
       " ['2020/09/08 09:49:11.165',\n",
       "  'down',\n",
       "  'H000083532',\n",
       "  'NTT国府津',\n",
       "  'KN184-077AN-01',\n",
       "  '4/3',\n",
       "  'KN180-077PT-01[2/10]',\n",
       "  'br60',\n",
       "  '東京イースト',\n",
       "  'TK004-246ZR-02',\n",
       "  'HundredGigE0/18/0/3.801',\n",
       "  'KN180-011PTB-08[13/1] ICHIGO-962'],\n",
       " ['2020/09/08 09:49:11.159',\n",
       "  'down',\n",
       "  'H000083532',\n",
       "  'NTT国府津',\n",
       "  'KN184-077AN-01',\n",
       "  '4/3',\n",
       "  'KN180-077PT-01[2/10]',\n",
       "  'br60',\n",
       "  'SBM＿大宮センター',\n",
       "  'ST004-169ZR-02',\n",
       "  'HundredGigE0/18/0/3.801',\n",
       "  'KN180-043PTB-10[13/1] ICHIGO-858'],\n",
       " ['2020/09/08 09:49:28.117',\n",
       "  'up',\n",
       "  'H000083532',\n",
       "  'NTT国府津',\n",
       "  'KN184-077AN-01',\n",
       "  '4/3',\n",
       "  'KN180-077PT-01[2/10]',\n",
       "  'br60',\n",
       "  '東京イースト',\n",
       "  'TK004-246ZR-02',\n",
       "  'HundredGigE0/18/0/3.801',\n",
       "  'KN180-011PTB-08[13/1] ICHIGO-962'],\n",
       " ['2020/09/08 09:49:28.141',\n",
       "  'up',\n",
       "  'H000083532',\n",
       "  'NTT国府津',\n",
       "  'KN184-077AN-01',\n",
       "  '4/3',\n",
       "  'KN180-077PT-01[2/10]',\n",
       "  'br60',\n",
       "  'SBM＿大宮センター',\n",
       "  'ST004-169ZR-02',\n",
       "  'HundredGigE0/18/0/3.801',\n",
       "  'KN180-043PTB-10[13/1] ICHIGO-858'],\n",
       " ['2020/09/08 09:51:43.172',\n",
       "  'down',\n",
       "  'H000083532',\n",
       "  'NTT国府津',\n",
       "  'KN184-077AN-01',\n",
       "  '4/3',\n",
       "  'KN180-077PT-01[2/10]',\n",
       "  'br60',\n",
       "  '東京イースト',\n",
       "  'TK004-246ZR-02',\n",
       "  'HundredGigE0/18/0/3.801',\n",
       "  'KN180-011PTB-08[13/1] ICHIGO-962'],\n",
       " ['2020/09/08 09:51:43.182',\n",
       "  'down',\n",
       "  'H000083532',\n",
       "  'NTT国府津',\n",
       "  'KN184-077AN-01',\n",
       "  '4/3',\n",
       "  'KN180-077PT-01[2/10]',\n",
       "  'br60',\n",
       "  'SBM＿大宮センター',\n",
       "  'ST004-169ZR-02',\n",
       "  'HundredGigE0/18/0/3.801',\n",
       "  'KN180-043PTB-10[13/1] ICHIGO-858'],\n",
       " ['2020/09/08 09:51:59.417',\n",
       "  'up',\n",
       "  'H000083532',\n",
       "  'NTT国府津',\n",
       "  'KN184-077AN-01',\n",
       "  '4/3',\n",
       "  'KN180-077PT-01[2/10]',\n",
       "  'br60',\n",
       "  '東京イースト',\n",
       "  'TK004-246ZR-02',\n",
       "  'HundredGigE0/18/0/3.801',\n",
       "  'KN180-011PTB-08[13/1] ICHIGO-962'],\n",
       " ['2020/09/08 09:51:59.418',\n",
       "  'up',\n",
       "  'H000083532',\n",
       "  'NTT国府津',\n",
       "  'KN184-077AN-01',\n",
       "  '4/3',\n",
       "  'KN180-077PT-01[2/10]',\n",
       "  'br60',\n",
       "  'SBM＿大宮センター',\n",
       "  'ST004-169ZR-02',\n",
       "  'HundredGigE0/18/0/3.801',\n",
       "  'KN180-043PTB-10[13/1] ICHIGO-858'],\n",
       " ['2020/09/08 10:03:38.904',\n",
       "  'down',\n",
       "  'H000083532',\n",
       "  'NTT国府津',\n",
       "  'KN184-077AN-01',\n",
       "  '4/3',\n",
       "  'KN180-077PT-01[2/10]',\n",
       "  'br60',\n",
       "  'SBM＿大宮センター',\n",
       "  'ST004-169ZR-02',\n",
       "  'HundredGigE0/18/0/3.801',\n",
       "  'KN180-043PTB-10[13/1] ICHIGO-858'],\n",
       " ['2020/09/08 10:03:38.925',\n",
       "  'down',\n",
       "  'H000083532',\n",
       "  'NTT国府津',\n",
       "  'KN184-077AN-01',\n",
       "  '4/3',\n",
       "  'KN180-077PT-01[2/10]',\n",
       "  'br60',\n",
       "  '東京イースト',\n",
       "  'TK004-246ZR-02',\n",
       "  'HundredGigE0/18/0/3.801',\n",
       "  'KN180-011PTB-08[13/1] ICHIGO-962'],\n",
       " ['2020/09/08 12:59:24.527',\n",
       "  'up',\n",
       "  'H000083532',\n",
       "  'NTT国府津',\n",
       "  'KN184-077AN-01',\n",
       "  '4/3',\n",
       "  'KN180-077PT-01[2/10]',\n",
       "  'br60',\n",
       "  '東京イースト',\n",
       "  'TK004-246ZR-02',\n",
       "  'HundredGigE0/18/0/3.801',\n",
       "  'KN180-011PTB-08[13/1] ICHIGO-962'],\n",
       " ['2020/09/08 12:59:24.533',\n",
       "  'up',\n",
       "  'H000083532',\n",
       "  'NTT国府津',\n",
       "  'KN184-077AN-01',\n",
       "  '4/3',\n",
       "  'KN180-077PT-01[2/10]',\n",
       "  'br60',\n",
       "  'SBM＿大宮センター',\n",
       "  'ST004-169ZR-02',\n",
       "  'HundredGigE0/18/0/3.801',\n",
       "  'KN180-043PTB-10[13/1] ICHIGO-858']]"
      ]
     },
     "execution_count": 65,
     "metadata": {},
     "output_type": "execute_result"
    }
   ],
   "source": [
    "csv_list"
   ]
  },
  {
   "cell_type": "code",
   "execution_count": 38,
   "metadata": {},
   "outputs": [],
   "source": [
    "host_unique_list = []\n",
    "for row in csv_list[1:]:\n",
    "    host_unique_list.append(row[4])\n",
    "\n",
    "host_list = list(set(host_unique_list))"
   ]
  },
  {
   "cell_type": "code",
   "execution_count": 52,
   "metadata": {
    "scrolled": true
   },
   "outputs": [
    {
     "name": "stdout",
     "output_type": "stream",
     "text": [
      "39 ['2020/09/07 03:58:09.658', 'down', 'H000042401', 'NTT西有田', 'SA520-057AN-01', '3/3', 'SA520-057PT-01[1/2]', 'br10', '福岡東', 'FO008-192ZR-01', 'HundredGigE0/7/0/0.101', 'SA520-003PTB-01[9/1] ICHIGO-1357']\n",
      "172 ['2020/09/07 12:13:16.860', 'up', 'H000042401', 'NTT西有田', 'SA520-057AN-01', '3/3', 'SA520-057PT-01[1/2]', 'br10', '福岡東', 'FO008-192ZR-01', 'HundredGigE0/7/0/0.101', 'SA520-003PTB-01[9/1] ICHIGO-1357']\n",
      "189 ['2020/09/07 12:14:29.991', 'up', 'H000042401', 'NTT西有田', 'SA520-057AN-01', '3/3', 'SA520-057PT-01[1/2]', 'br10', '福岡東', 'FO008-192ZR-01', 'HundredGigE0/7/0/0.101', 'SA520-003PTB-01[9/1] ICHIGO-1357']\n"
     ]
    }
   ],
   "source": [
    "for n,row in enumerate(csv_list):\n",
    "    if host_list[0] in row:\n",
    "        print(n,row)\n",
    "        last_state = row"
   ]
  },
  {
   "cell_type": "code",
   "execution_count": 50,
   "metadata": {},
   "outputs": [],
   "source": [
    "csv_list_copy = copy.copy(csv_list)"
   ]
  },
  {
   "cell_type": "code",
   "execution_count": 55,
   "metadata": {},
   "outputs": [],
   "source": [
    "csv_list_copy[189][1] = \"down\""
   ]
  },
  {
   "cell_type": "code",
   "execution_count": 46,
   "metadata": {},
   "outputs": [
    {
     "name": "stdout",
     "output_type": "stream",
     "text": [
      "SA520-057AN-01 is OK\n"
     ]
    }
   ],
   "source": [
    "if last_state[1] == \"up\":\n",
    "    # print(last_state[4] + \" is\" + \" OK\")\n",
    "    pass\n",
    "else:\n",
    "    print(last_state[4] + \"is\" + \"NG\")\n",
    "    NG_list.append(last_state[4])"
   ]
  },
  {
   "cell_type": "code",
   "execution_count": 58,
   "metadata": {
    "scrolled": true
   },
   "outputs": [
    {
     "name": "stdout",
     "output_type": "stream",
     "text": [
      "SA520-057AN-01 is NG\n",
      "SA520-012AN-01 is OK\n",
      "SA520-004AN-02 is OK\n",
      "SA520-019AN-02 is OK\n",
      "SA520-029AN-01 is OK\n",
      "SA520-023AN-02 is OK\n",
      "NG510-008AN-01 is OK\n",
      "SA520-005AN-02 is OK\n",
      "NG510-004AN-01 is OK\n",
      "SA520-004AR-21 is OK\n",
      "SA520-054AN-02 is OK\n",
      "SA520-054AN-01 is OK\n",
      "SA520-064AN-01 is OK\n",
      "SA520-002AN-01 is OK\n",
      "SA520-003AN-01 is OK\n",
      "SA520-044AN-01 is OK\n",
      "SA520-004AN-01 is OK\n",
      "NG510-050AN-01 is OK\n",
      "NG510-001AN-03 is OK\n",
      "NG510-005AN-01 is OK\n",
      "SA520-011AN-01 is OK\n",
      "SA520-069AN-02 is OK\n",
      "SA520-013AN-01 is OK\n",
      "SA520-056AN-01 is OK\n",
      "SA520-019AN-01 is OK\n",
      "SA520-067AN-01 is OK\n",
      "SA520-005AN-01 is OK\n",
      "SA520-007AN-01 is OK\n",
      "SA520-010AN-01 is OK\n",
      "SA520-034AN-01 is OK\n",
      "SA520-062AN-01 is OK\n",
      "SA520-061AN-01 is OK\n",
      "SA520-034AN-02 is OK\n",
      "NG510-003AN-02 is OK\n",
      "SA520-003AN-02 is OK\n",
      "NG510-008AN-02 is OK\n",
      "SA520-003AN-03 is OK\n",
      "SA520-004AN-03 is OK\n",
      "SA520-001AN-01 is OK\n",
      "SA520-030AN-01 is OK\n",
      "SA520-065AN-01 is OK\n",
      "SA520-035AN-01 is OK\n",
      "SA520-059AN-01 is OK\n",
      "NG510-003AN-01 is OK\n",
      "SA520-058AN-01 is OK\n",
      "NG510-007AN-01 is OK\n",
      "SA520-012AN-02 is OK\n",
      "SA520-028AN-01 is OK\n",
      "SA520-012AN-03 is OK\n",
      "NG510-569AN-01 is OK\n",
      "SA520-023AN-01 is OK\n",
      "SA520-042AN-01 is OK\n"
     ]
    }
   ],
   "source": [
    "NG_list = []\n",
    "for host_name in host_list:\n",
    "    for row in csv_list_copy:\n",
    "        if host_name in row:\n",
    "            last_state = row\n",
    "    if last_state[1] == \"up\":\n",
    "        print(last_state[4] + \" is\" + \" OK\")\n",
    "        pass\n",
    "    else:\n",
    "        print(last_state[4] + \" is\" + \" NG\")\n",
    "        NG_list.append(last_state[4])"
   ]
  },
  {
   "cell_type": "code",
   "execution_count": 59,
   "metadata": {},
   "outputs": [
    {
     "data": {
      "text/plain": [
       "['SA520-057AN-01']"
      ]
     },
     "execution_count": 59,
     "metadata": {},
     "output_type": "execute_result"
    }
   ],
   "source": [
    "NG_list"
   ]
  },
  {
   "cell_type": "code",
   "execution_count": 60,
   "metadata": {},
   "outputs": [],
   "source": [
    "f.close()"
   ]
  },
  {
   "cell_type": "code",
   "execution_count": 1,
   "metadata": {},
   "outputs": [
    {
     "data": {
      "text/plain": [
       "5.375"
      ]
     },
     "execution_count": 1,
     "metadata": {},
     "output_type": "execute_result"
    }
   ],
   "source": [
    "43/8"
   ]
  },
  {
   "cell_type": "code",
   "execution_count": 2,
   "metadata": {},
   "outputs": [
    {
     "data": {
      "text/plain": [
       "0.18604651162790697"
      ]
     },
     "execution_count": 2,
     "metadata": {},
     "output_type": "execute_result"
    }
   ],
   "source": [
    "8/43"
   ]
  },
  {
   "cell_type": "code",
   "execution_count": 3,
   "metadata": {},
   "outputs": [
    {
     "data": {
      "text/plain": [
       "12000000.0"
      ]
     },
     "execution_count": 3,
     "metadata": {},
     "output_type": "execute_result"
    }
   ],
   "source": [
    "60000*2000/10"
   ]
  },
  {
   "cell_type": "code",
   "execution_count": 4,
   "metadata": {},
   "outputs": [
    {
     "data": {
      "text/plain": [
       "5555555.555555556"
      ]
     },
     "execution_count": 4,
     "metadata": {},
     "output_type": "execute_result"
    }
   ],
   "source": [
    "50000*1000/9"
   ]
  },
  {
   "cell_type": "code",
   "execution_count": 5,
   "metadata": {},
   "outputs": [
    {
     "data": {
      "text/plain": [
       "15000000.0"
      ]
     },
     "execution_count": 5,
     "metadata": {},
     "output_type": "execute_result"
    }
   ],
   "source": [
    "40000*3000/8"
   ]
  },
  {
   "cell_type": "code",
   "execution_count": 8,
   "metadata": {},
   "outputs": [
    {
     "data": {
      "text/plain": [
       "10851851.833333334"
      ]
     },
     "execution_count": 8,
     "metadata": {},
     "output_type": "execute_result"
    }
   ],
   "source": [
    "(12000000.0+5555555.5 + 15000000.0) / 3"
   ]
  },
  {
   "cell_type": "code",
   "execution_count": 10,
   "metadata": {},
   "outputs": [
    {
     "data": {
      "text/plain": [
       "4.0"
      ]
     },
     "execution_count": 10,
     "metadata": {},
     "output_type": "execute_result"
    }
   ],
   "source": [
    "10 * 0.4"
   ]
  },
  {
   "cell_type": "code",
   "execution_count": 11,
   "metadata": {},
   "outputs": [
    {
     "data": {
      "text/plain": [
       "1.5"
      ]
     },
     "execution_count": 11,
     "metadata": {},
     "output_type": "execute_result"
    }
   ],
   "source": [
    "15*0.1"
   ]
  },
  {
   "cell_type": "code",
   "execution_count": 12,
   "metadata": {},
   "outputs": [
    {
     "data": {
      "text/plain": [
       "2.5"
      ]
     },
     "execution_count": 12,
     "metadata": {},
     "output_type": "execute_result"
    }
   ],
   "source": [
    "50*0.05"
   ]
  },
  {
   "cell_type": "code",
   "execution_count": 13,
   "metadata": {},
   "outputs": [
    {
     "data": {
      "text/plain": [
       "10.5"
      ]
     },
     "execution_count": 13,
     "metadata": {},
     "output_type": "execute_result"
    }
   ],
   "source": [
    "3.5*3"
   ]
  },
  {
   "cell_type": "code",
   "execution_count": 14,
   "metadata": {},
   "outputs": [
    {
     "data": {
      "text/plain": [
       "45.5"
      ]
     },
     "execution_count": 14,
     "metadata": {},
     "output_type": "execute_result"
    }
   ],
   "source": [
    "10.5+35"
   ]
  },
  {
   "cell_type": "code",
   "execution_count": 15,
   "metadata": {},
   "outputs": [
    {
     "data": {
      "text/plain": [
       "4.55"
      ]
     },
     "execution_count": 15,
     "metadata": {},
     "output_type": "execute_result"
    }
   ],
   "source": [
    "45.5*0.05*2"
   ]
  },
  {
   "cell_type": "code",
   "execution_count": 16,
   "metadata": {},
   "outputs": [
    {
     "data": {
      "text/plain": [
       "48.0"
      ]
     },
     "execution_count": 16,
     "metadata": {},
     "output_type": "execute_result"
    }
   ],
   "source": [
    "240*0.2"
   ]
  },
  {
   "cell_type": "code",
   "execution_count": 17,
   "metadata": {},
   "outputs": [
    {
     "data": {
      "text/plain": [
       "72.0"
      ]
     },
     "execution_count": 17,
     "metadata": {},
     "output_type": "execute_result"
    }
   ],
   "source": [
    "240*0.3"
   ]
  },
  {
   "cell_type": "code",
   "execution_count": 18,
   "metadata": {},
   "outputs": [
    {
     "data": {
      "text/plain": [
       "168"
      ]
     },
     "execution_count": 18,
     "metadata": {},
     "output_type": "execute_result"
    }
   ],
   "source": [
    "240-72"
   ]
  },
  {
   "cell_type": "code",
   "execution_count": 19,
   "metadata": {},
   "outputs": [
    {
     "data": {
      "text/plain": [
       "0.42000000000000004"
      ]
     },
     "execution_count": 19,
     "metadata": {},
     "output_type": "execute_result"
    }
   ],
   "source": [
    "(0.9+0.9+0.1+0.1+0.1) /5"
   ]
  },
  {
   "cell_type": "code",
   "execution_count": 20,
   "metadata": {},
   "outputs": [
    {
     "data": {
      "text/plain": [
       "9.000000000000003e-05"
      ]
     },
     "execution_count": 20,
     "metadata": {},
     "output_type": "execute_result"
    }
   ],
   "source": [
    "0.1*0.1*0.1*0.1*0.9"
   ]
  },
  {
   "cell_type": "code",
   "execution_count": 21,
   "metadata": {},
   "outputs": [
    {
     "data": {
      "text/plain": [
       "21.0"
      ]
     },
     "execution_count": 21,
     "metadata": {},
     "output_type": "execute_result"
    }
   ],
   "source": [
    "(20+28+14+27+26+16+16)/7"
   ]
  },
  {
   "cell_type": "code",
   "execution_count": 22,
   "metadata": {},
   "outputs": [
    {
     "data": {
      "text/plain": [
       "257.1666666666667"
      ]
     },
     "execution_count": 22,
     "metadata": {},
     "output_type": "execute_result"
    }
   ],
   "source": [
    "(258+244+264+201+256+320)/6"
   ]
  },
  {
   "cell_type": "code",
   "execution_count": null,
   "metadata": {},
   "outputs": [],
   "source": []
  }
 ],
 "metadata": {
  "kernelspec": {
   "display_name": "Python 3",
   "language": "python",
   "name": "python3"
  },
  "language_info": {
   "codemirror_mode": {
    "name": "ipython",
    "version": 3
   },
   "file_extension": ".py",
   "mimetype": "text/x-python",
   "name": "python",
   "nbconvert_exporter": "python",
   "pygments_lexer": "ipython3",
   "version": "3.7.4"
  }
 },
 "nbformat": 4,
 "nbformat_minor": 4
}
